{
 "cells": [
  {
   "cell_type": "markdown",
   "id": "b8629dd7-5e58-4b0b-8158-6f7d70e6267d",
   "metadata": {},
   "source": [
    "#load the data set"
   ]
  },
  {
   "cell_type": "code",
   "execution_count": 4,
   "id": "727fb314-ef3d-4660-8669-8bf4ebdad850",
   "metadata": {},
   "outputs": [
    {
     "ename": "ModuleNotFoundError",
     "evalue": "No module named 'pandas'",
     "output_type": "error",
     "traceback": [
      "\u001b[1;31m---------------------------------------------------------------------------\u001b[0m",
      "\u001b[1;31mModuleNotFoundError\u001b[0m                       Traceback (most recent call last)",
      "Cell \u001b[1;32mIn[4], line 1\u001b[0m\n\u001b[1;32m----> 1\u001b[0m \u001b[38;5;28;01mimport\u001b[39;00m\u001b[38;5;250m \u001b[39m\u001b[38;5;21;01mpandas\u001b[39;00m\u001b[38;5;250m \u001b[39m\u001b[38;5;28;01mas\u001b[39;00m\u001b[38;5;250m \u001b[39m\u001b[38;5;21;01mpd\u001b[39;00m\n\u001b[0;32m      2\u001b[0m user_history_df \u001b[38;5;241m=\u001b[39m pd\u001b[38;5;241m.\u001b[39mread_csv(\u001b[38;5;124m\"\u001b[39m\u001b[38;5;124mFinal_Updated_Expanded_UserHistory.csv\u001b[39m\u001b[38;5;124m\"\u001b[39m)\n",
      "\u001b[1;31mModuleNotFoundError\u001b[0m: No module named 'pandas'"
     ]
    }
   ],
   "source": [
    "import pandas as pd\n",
    "user_history_df = pd.read_csv(\"Final_Updated_Expanded_UserHistory.csv\")\n"
   ]
  },
  {
   "cell_type": "markdown",
   "id": "c73fed71-052f-47b1-982c-4f842df77b29",
   "metadata": {},
   "source": [
    "#Convert the VisitDate column to datetime format"
   ]
  },
  {
   "cell_type": "code",
   "execution_count": 15,
   "id": "61147819-2318-4f0e-a2fb-552cf4f085d0",
   "metadata": {},
   "outputs": [],
   "source": [
    "user_history_df['VisitDate'] = pd.to_datetime(user_history_df['VisitDate'])\n"
   ]
  },
  {
   "cell_type": "markdown",
   "id": "4b075360-363e-4579-b518-c2eb7658ea7b",
   "metadata": {},
   "source": [
    "#Extract features from the date"
   ]
  },
  {
   "cell_type": "code",
   "execution_count": 18,
   "id": "9ddff5ac-28e2-460d-b56f-58f575a0c9fc",
   "metadata": {},
   "outputs": [],
   "source": [
    "user_history_df['VisitYear'] = user_history_df['VisitDate'].dt.year\n",
    "user_history_df['VisitMonth'] = user_history_df['VisitDate'].dt.month\n",
    "user_history_df['VisitDay'] = user_history_df['VisitDate'].dt.day\n"
   ]
  },
  {
   "cell_type": "markdown",
   "id": "9104fd4a-46e9-4641-99a7-42ad5ee2d878",
   "metadata": {},
   "source": [
    "#Drop the original VisitDate column"
   ]
  },
  {
   "cell_type": "code",
   "execution_count": 21,
   "id": "a11ede10-84b4-4e40-b3c5-5a967a756755",
   "metadata": {},
   "outputs": [],
   "source": [
    "user_history_df.drop(columns=['VisitDate'], inplace=True)"
   ]
  },
  {
   "cell_type": "markdown",
   "id": "e35674b9-9ba8-4486-876b-08bc956e3a61",
   "metadata": {},
   "source": [
    "#1. Import Necessary Libraries"
   ]
  },
  {
   "cell_type": "code",
   "execution_count": 24,
   "id": "03e2029f-093e-4ab8-98e0-dc3539c80cad",
   "metadata": {},
   "outputs": [],
   "source": [
    "import pandas as pd\n",
    "import numpy as np\n",
    "from sklearn.model_selection import train_test_split\n",
    "from sklearn.preprocessing import StandardScaler\n",
    "from sklearn.linear_model import LinearRegression, LogisticRegression\n",
    "from sklearn.tree import DecisionTreeClassifier\n",
    "from sklearn.svm import SVC\n",
    "from sklearn.metrics import accuracy_score, mean_squared_error\n"
   ]
  },
  {
   "cell_type": "markdown",
   "id": "3f36a86d-4add-4c32-9f6b-ab097f456711",
   "metadata": {},
   "source": [
    "#2. Prepare Features and Labels"
   ]
  },
  {
   "cell_type": "code",
   "execution_count": 26,
   "id": "0aeffb3d-4b19-4926-bc3a-1c34d1fca01b",
   "metadata": {},
   "outputs": [],
   "source": [
    "# Define features (X) and label (y)\n",
    "X = user_history_df[['UserID', 'DestinationID', 'VisitYear', 'VisitMonth', 'VisitDay']]\n",
    "y = user_history_df['ExperienceRating']\n",
    "\n",
    "# Split into training (80%) and testing (20%) datasets\n",
    "X_train, X_test, y_train, y_test = train_test_split(X, y, test_size=0.2, random_state=42)\n",
    "\n",
    "# Standardize the data (important for SVM & Logistic Regression)\n",
    "scaler = StandardScaler()\n",
    "X_train_scaled = scaler.fit_transform(X_train)\n",
    "X_test_scaled = scaler.transform(X_test)\n"
   ]
  },
  {
   "cell_type": "markdown",
   "id": "65dab752-3f16-4d8e-ac47-44c73220b53f",
   "metadata": {},
   "source": [
    "#3. Train Each Model Separately\n",
    "#(a) Train Linear Regression Model"
   ]
  },
  {
   "cell_type": "code",
   "execution_count": 28,
   "id": "73c88412-faea-4196-9faa-55afb04cfe47",
   "metadata": {},
   "outputs": [
    {
     "name": "stdout",
     "output_type": "stream",
     "text": [
      "Linear Regression MSE: 2.009799140957112\n"
     ]
    }
   ],
   "source": [
    "lr_model = LinearRegression()\n",
    "lr_model.fit(X_train, y_train)\n",
    "\n",
    "# Predict and evaluate\n",
    "y_pred_lr = lr_model.predict(X_test)\n",
    "mse = mean_squared_error(y_test, y_pred_lr)\n",
    "print(f'Linear Regression MSE: {mse}')\n"
   ]
  },
  {
   "cell_type": "markdown",
   "id": "450efd9a-0b58-4eb6-94bb-5bd5163ca922",
   "metadata": {},
   "source": [
    "#(b) Train Logistic Regression Model (Binary Classification)"
   ]
  },
  {
   "cell_type": "code",
   "execution_count": 30,
   "id": "9b84f2cf-da5d-4ac8-acfa-233c022b3573",
   "metadata": {},
   "outputs": [
    {
     "name": "stdout",
     "output_type": "stream",
     "text": [
      "Logistic Regression Accuracy: 0.69\n"
     ]
    }
   ],
   "source": [
    "y_binary = (y >= 4).astype(int)  # Good (1) if rating ≥ 4, else Bad (0)\n",
    "X_train_bin, X_test_bin, y_train_bin, y_test_bin = train_test_split(X, y_binary, test_size=0.2, random_state=42)\n",
    "\n",
    "log_model = LogisticRegression()\n",
    "log_model.fit(X_train_bin, y_train_bin)\n",
    "\n",
    "# Predict and evaluate\n",
    "y_pred_log = log_model.predict(X_test_bin)\n",
    "accuracy = accuracy_score(y_test_bin, y_pred_log)\n",
    "print(f'Logistic Regression Accuracy: {accuracy}')\n"
   ]
  },
  {
   "cell_type": "markdown",
   "id": "83ea16b6-7bb0-44a5-b3ef-0c5405120ce9",
   "metadata": {},
   "source": [
    "#c) Train Decision Tree Model"
   ]
  },
  {
   "cell_type": "code",
   "execution_count": 32,
   "id": "56e46780-e446-448d-a3f6-3f84b5b784a2",
   "metadata": {},
   "outputs": [
    {
     "name": "stdout",
     "output_type": "stream",
     "text": [
      "Decision Tree Accuracy: 0.22\n"
     ]
    }
   ],
   "source": [
    "dt_model = DecisionTreeClassifier()\n",
    "dt_model.fit(X_train, y_train)\n",
    "\n",
    "# Predict and evaluate\n",
    "y_pred_dt = dt_model.predict(X_test)\n",
    "accuracy = accuracy_score(y_test, y_pred_dt)\n",
    "print(f'Decision Tree Accuracy: {accuracy}')\n"
   ]
  },
  {
   "cell_type": "markdown",
   "id": "d176e717-a565-4684-94f3-41eed64663e2",
   "metadata": {},
   "source": [
    "#(d) Train Support Vector Machine (SVM) Model"
   ]
  },
  {
   "cell_type": "code",
   "execution_count": 34,
   "id": "3de9cc3f-90d4-4cec-bfdd-32d221280e4d",
   "metadata": {},
   "outputs": [
    {
     "name": "stdout",
     "output_type": "stream",
     "text": [
      "SVM Accuracy: 0.21\n"
     ]
    }
   ],
   "source": [
    "svm_model = SVC()\n",
    "svm_model.fit(X_train_scaled, y_train)\n",
    "\n",
    "# Predict and evaluate\n",
    "y_pred_svm = svm_model.predict(X_test_scaled)\n",
    "accuracy = accuracy_score(y_test, y_pred_svm)\n",
    "print(f'SVM Accuracy: {accuracy}')\n"
   ]
  },
  {
   "cell_type": "markdown",
   "id": "4c2ccc9f-c01f-41c9-8b3b-6ee679752c88",
   "metadata": {},
   "source": [
    "#Define a Prediction Function"
   ]
  },
  {
   "cell_type": "code",
   "execution_count": 36,
   "id": "f4383db6-a6fe-493b-a8e9-22b88a14c4c9",
   "metadata": {},
   "outputs": [],
   "source": [
    "def predict_experience(user_id, destination_id, visit_year, visit_month, visit_day):\n",
    "    # Create a DataFrame for user input\n",
    "    user_input = pd.DataFrame([[user_id, destination_id, visit_year, visit_month, visit_day]],\n",
    "                              columns=['UserID', 'DestinationID', 'VisitYear', 'VisitMonth', 'VisitDay'])\n",
    "\n",
    "    # Scale the input (for models that require scaling)\n",
    "    user_input_scaled = scaler.transform(user_input)\n",
    "\n",
    "    # Linear Regression Prediction\n",
    "    lr_prediction = lr_model.predict(user_input)[0]\n",
    "\n",
    "    # Logistic Regression Prediction (Convert to Good/Bad)\n",
    "    log_prediction = log_model.predict(user_input)[0]\n",
    "    log_result = \"Good (4-5)\" if log_prediction == 1 else \"Bad (1-3)\"\n",
    "\n",
    "    # Decision Tree Prediction\n",
    "    dt_prediction = dt_model.predict(user_input)[0]\n",
    "\n",
    "    # SVM Prediction\n",
    "    svm_prediction = svm_model.predict(user_input_scaled)[0]\n",
    "\n",
    "    # Print Predictions\n",
    "    print(f\"Linear Regression Prediction (Experience Rating): {lr_prediction:.2f}\")\n",
    "    print(f\"Logistic Regression Prediction (Good/Bad): {log_result}\")\n",
    "    print(f\"Decision Tree Prediction (Experience Rating): {dt_prediction}\")\n",
    "    print(f\"SVM Prediction (Experience Rating): {svm_prediction}\")\n",
    "\n",
    "    return {\n",
    "        \"Linear Regression\": round(lr_prediction, 2),\n",
    "        \"Logistic Regression\": log_result,\n",
    "        \"Decision Tree\": dt_prediction,\n",
    "        \"SVM\": svm_prediction\n",
    "    }\n"
   ]
  },
  {
   "cell_type": "markdown",
   "id": "c762b5a2-71c4-4b6a-bd56-20a8941f9ef5",
   "metadata": {},
   "source": [
    "#Get User Input and Predict"
   ]
  },
  {
   "cell_type": "code",
   "execution_count": null,
   "id": "e0bbff88-5889-4803-8f40-c2fca6cde9bd",
   "metadata": {},
   "outputs": [],
   "source": [
    "user_id = int(input(\"Enter UserID: \"))\n",
    "destination_id = int(input(\"Enter DestinationID: \"))\n",
    "visit_year = int(input(\"Enter Visit Year: \"))\n",
    "visit_month = int(input(\"Enter Visit Month: \"))\n",
    "visit_day = int(input(\"Enter Visit Day: \"))\n",
    "\n",
    "# Get predictions\n",
    "predictions = predict_experience(user_id, destination_id, visit_year, visit_month, visit_day)\n"
   ]
  },
  {
   "cell_type": "markdown",
   "id": "0db3b960-be00-4f3b-bb1a-5b8383ac0e85",
   "metadata": {},
   "source": [
    "#save the models after training"
   ]
  },
  {
   "cell_type": "code",
   "execution_count": null,
   "id": "8dc58e82-9764-498a-8117-c6503d781c3b",
   "metadata": {},
   "outputs": [],
   "source": [
    "import pickle\n",
    "\n",
    "# Assuming you've already trained these models\n",
    "# Replace these with your trained models\n",
    "lr_model = ...  # Linear Regression model\n",
    "log_model = ...  # Logistic Regression model\n",
    "dt_model = ...  # Decision Tree model\n",
    "svm_model = ...  # SVM model\n",
    "scaler = ...  # Your trained scaler (if applicable)\n",
    "\n",
    "# Save models\n",
    "pickle.dump(lr_model, open(\"linear_regression.pkl\", \"wb\"))\n",
    "pickle.dump(log_model, open(\"logistic_regression.pkl\", \"wb\"))\n",
    "pickle.dump(dt_model, open(\"decision_tree.pkl\", \"wb\"))\n",
    "pickle.dump(svm_model, open(\"svm.pkl\", \"wb\"))\n",
    "pickle.dump(scaler, open(\"scaler.pkl\", \"wb\"))\n",
    "\n",
    "print(\"All models have been saved successfully!\")\n"
   ]
  },
  {
   "cell_type": "code",
   "execution_count": null,
   "id": "3db20fff-526d-4399-b168-2e2aa6ef96e7",
   "metadata": {},
   "outputs": [],
   "source": [
    "import pickle\n",
    "\n",
    "# Save Linear Regression Model\n",
    "with open(\"linear_regression.pkl\", \"wb\") as model_file:\n",
    "    pickle.dump(lr_model, model_file)  # Replace lr_model with your trained model\n",
    "\n",
    "print(\"Model saved successfully!\")\n"
   ]
  },
  {
   "cell_type": "code",
   "execution_count": null,
   "id": "e5ef5746-7619-45e2-8b45-8bc31c888696",
   "metadata": {},
   "outputs": [],
   "source": [
    "#After saving the model, run this command to download it\n",
    "from google.colab import files\n",
    "files.download(\"linear_regression.pkl\")\n"
   ]
  },
  {
   "cell_type": "code",
   "execution_count": null,
   "id": "779bf9a0-56dd-4a4a-8dd4-76df873701ad",
   "metadata": {},
   "outputs": [],
   "source": [
    "import pickle\n",
    "from google.colab import files\n",
    "\n",
    "# Save the trained model\n",
    "with open(\"linear_regression.pkl\", \"wb\") as model_file:\n",
    "    pickle.dump(lr_model, model_file)  # Ensure `lr_model` is your trained model\n",
    "\n",
    "# Download the file\n",
    "files.download(\"linear_regression.pkl\")\n"
   ]
  },
  {
   "cell_type": "code",
   "execution_count": null,
   "id": "16e7953b-1976-4071-a207-cc73dc8cefae",
   "metadata": {},
   "outputs": [],
   "source": []
  }
 ],
 "metadata": {
  "kernelspec": {
   "display_name": "Python 3",
   "language": "python",
   "name": "python3"
  },
  "language_info": {
   "codemirror_mode": {
    "name": "ipython",
    "version": 3
   },
   "file_extension": ".py",
   "mimetype": "text/x-python",
   "name": "python",
   "nbconvert_exporter": "python",
   "pygments_lexer": "ipython3",
   "version": "3.12.5"
  }
 },
 "nbformat": 4,
 "nbformat_minor": 5
}
